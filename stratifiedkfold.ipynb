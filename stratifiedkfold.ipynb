{
 "cells": [
  {
   "cell_type": "code",
   "execution_count": 1,
   "metadata": {},
   "outputs": [],
   "source": [
    "from sklearn.model_selection import StratifiedKFold\n",
    "from sklearn.model_selection import train_test_split\n",
    "import numpy as np\n",
    "import collections"
   ]
  },
  {
   "cell_type": "code",
   "execution_count": 2,
   "metadata": {},
   "outputs": [],
   "source": [
    "seed = 2019\n",
    "kfold = StratifiedKFold(n_splits=5, shuffle=True, random_state=seed)"
   ]
  },
  {
   "cell_type": "code",
   "execution_count": 3,
   "metadata": {},
   "outputs": [],
   "source": [
    "pnt_path = '/mnt/data7_M2/Tennison_TUH_Reprocessed_STFT/stft_1s_64/'\n",
    "X = np.load(pnt_path + 'data_x.npy') # TUH\n",
    "y = np.load(pnt_path + 'data_y.npy')"
   ]
  },
  {
   "cell_type": "code",
   "execution_count": null,
   "metadata": {},
   "outputs": [],
   "source": []
  },
  {
   "cell_type": "code",
   "execution_count": 16,
   "metadata": {},
   "outputs": [
    {
     "name": "stdout",
     "output_type": "stream",
     "text": [
      "Distribution for fold 1\n",
      "Distribution of classes on train set: \n",
      "[('ABSZ', 282), ('CPSZ', 14700), ('FNSZ', 23826), ('GNSZ', 12278), ('MYSZ', 775), ('SPSZ', 785), ('TCSZ', 1023), ('TNSZ', 244)]\n",
      "Proportion of classes on train set:\n",
      "[('ABSZ', 0.01), ('CPSZ', 0.27), ('FNSZ', 0.44), ('GNSZ', 0.23), ('MYSZ', 0.01), ('SPSZ', 0.01), ('TCSZ', 0.02), ('TNSZ', 0.0)]\n",
      "Distribution of classes on val set: \n",
      "[('ABSZ', 94), ('CPSZ', 4900), ('FNSZ', 7942), ('GNSZ', 4093), ('MYSZ', 258), ('SPSZ', 262), ('TCSZ', 341), ('TNSZ', 82)]\n",
      "Proportion of classes on val set:\n",
      "[('ABSZ', 0.01), ('CPSZ', 0.27), ('FNSZ', 0.44), ('GNSZ', 0.23), ('MYSZ', 0.01), ('SPSZ', 0.01), ('TCSZ', 0.02), ('TNSZ', 0.0)]\n",
      "Distribution of classes on test set: \n",
      "[('ABSZ', 95), ('CPSZ', 4900), ('FNSZ', 7942), ('GNSZ', 4093), ('MYSZ', 259), ('SPSZ', 262), ('TCSZ', 341), ('TNSZ', 82)]\n",
      "Proportion of classes on test set:\n",
      "[('ABSZ', 0.01), ('CPSZ', 0.27), ('FNSZ', 0.44), ('GNSZ', 0.23), ('MYSZ', 0.01), ('SPSZ', 0.01), ('TCSZ', 0.02), ('TNSZ', 0.0)]\n",
      "\n",
      "\n",
      "Distribution for fold 2\n",
      "Distribution of classes on train set: \n",
      "[('ABSZ', 283), ('CPSZ', 14700), ('FNSZ', 23826), ('GNSZ', 12278), ('MYSZ', 775), ('SPSZ', 785), ('TCSZ', 1023), ('TNSZ', 244)]\n",
      "Proportion of classes on train set:\n",
      "[('ABSZ', 0.01), ('CPSZ', 0.27), ('FNSZ', 0.44), ('GNSZ', 0.23), ('MYSZ', 0.01), ('SPSZ', 0.01), ('TCSZ', 0.02), ('TNSZ', 0.0)]\n",
      "Distribution of classes on val set: \n",
      "[('ABSZ', 94), ('CPSZ', 4900), ('FNSZ', 7942), ('GNSZ', 4093), ('MYSZ', 258), ('SPSZ', 262), ('TCSZ', 341), ('TNSZ', 82)]\n",
      "Proportion of classes on val set:\n",
      "[('ABSZ', 0.01), ('CPSZ', 0.27), ('FNSZ', 0.44), ('GNSZ', 0.23), ('MYSZ', 0.01), ('SPSZ', 0.01), ('TCSZ', 0.02), ('TNSZ', 0.0)]\n",
      "Distribution of classes on test set: \n",
      "[('ABSZ', 94), ('CPSZ', 4900), ('FNSZ', 7942), ('GNSZ', 4093), ('MYSZ', 259), ('SPSZ', 262), ('TCSZ', 341), ('TNSZ', 82)]\n",
      "Proportion of classes on test set:\n",
      "[('ABSZ', 0.01), ('CPSZ', 0.27), ('FNSZ', 0.44), ('GNSZ', 0.23), ('MYSZ', 0.01), ('SPSZ', 0.01), ('TCSZ', 0.02), ('TNSZ', 0.0)]\n",
      "\n",
      "\n",
      "Distribution for fold 3\n",
      "Distribution of classes on train set: \n",
      "[('ABSZ', 283), ('CPSZ', 14700), ('FNSZ', 23826), ('GNSZ', 12278), ('MYSZ', 775), ('SPSZ', 785), ('TCSZ', 1023), ('TNSZ', 245)]\n",
      "Proportion of classes on train set:\n",
      "[('ABSZ', 0.01), ('CPSZ', 0.27), ('FNSZ', 0.44), ('GNSZ', 0.23), ('MYSZ', 0.01), ('SPSZ', 0.01), ('TCSZ', 0.02), ('TNSZ', 0.0)]\n",
      "Distribution of classes on val set: \n",
      "[('ABSZ', 94), ('CPSZ', 4900), ('FNSZ', 7942), ('GNSZ', 4093), ('MYSZ', 259), ('SPSZ', 262), ('TCSZ', 341), ('TNSZ', 81)]\n",
      "Proportion of classes on val set:\n",
      "[('ABSZ', 0.01), ('CPSZ', 0.27), ('FNSZ', 0.44), ('GNSZ', 0.23), ('MYSZ', 0.01), ('SPSZ', 0.01), ('TCSZ', 0.02), ('TNSZ', 0.0)]\n",
      "Distribution of classes on test set: \n",
      "[('ABSZ', 94), ('CPSZ', 4900), ('FNSZ', 7942), ('GNSZ', 4093), ('MYSZ', 258), ('SPSZ', 262), ('TCSZ', 341), ('TNSZ', 82)]\n",
      "Proportion of classes on test set:\n",
      "[('ABSZ', 0.01), ('CPSZ', 0.27), ('FNSZ', 0.44), ('GNSZ', 0.23), ('MYSZ', 0.01), ('SPSZ', 0.01), ('TCSZ', 0.02), ('TNSZ', 0.0)]\n",
      "\n",
      "\n",
      "Distribution for fold 4\n",
      "Distribution of classes on train set: \n",
      "[('ABSZ', 283), ('CPSZ', 14700), ('FNSZ', 23826), ('GNSZ', 12278), ('MYSZ', 776), ('SPSZ', 785), ('TCSZ', 1023), ('TNSZ', 245)]\n",
      "Proportion of classes on train set:\n",
      "[('ABSZ', 0.01), ('CPSZ', 0.27), ('FNSZ', 0.44), ('GNSZ', 0.23), ('MYSZ', 0.01), ('SPSZ', 0.01), ('TCSZ', 0.02), ('TNSZ', 0.0)]\n",
      "Distribution of classes on val set: \n",
      "[('ABSZ', 94), ('CPSZ', 4900), ('FNSZ', 7942), ('GNSZ', 4093), ('MYSZ', 258), ('SPSZ', 262), ('TCSZ', 341), ('TNSZ', 82)]\n",
      "Proportion of classes on val set:\n",
      "[('ABSZ', 0.01), ('CPSZ', 0.27), ('FNSZ', 0.44), ('GNSZ', 0.23), ('MYSZ', 0.01), ('SPSZ', 0.01), ('TCSZ', 0.02), ('TNSZ', 0.0)]\n",
      "Distribution of classes on test set: \n",
      "[('ABSZ', 94), ('CPSZ', 4900), ('FNSZ', 7942), ('GNSZ', 4093), ('MYSZ', 258), ('SPSZ', 262), ('TCSZ', 341), ('TNSZ', 81)]\n",
      "Proportion of classes on test set:\n",
      "[('ABSZ', 0.01), ('CPSZ', 0.27), ('FNSZ', 0.44), ('GNSZ', 0.23), ('MYSZ', 0.01), ('SPSZ', 0.01), ('TCSZ', 0.02), ('TNSZ', 0.0)]\n",
      "\n",
      "\n",
      "Distribution for fold 5\n",
      "Distribution of classes on train set: \n",
      "[('ABSZ', 283), ('CPSZ', 14700), ('FNSZ', 23826), ('GNSZ', 12279), ('MYSZ', 775), ('SPSZ', 786), ('TCSZ', 1023), ('TNSZ', 245)]\n",
      "Proportion of classes on train set:\n",
      "[('ABSZ', 0.01), ('CPSZ', 0.27), ('FNSZ', 0.44), ('GNSZ', 0.23), ('MYSZ', 0.01), ('SPSZ', 0.01), ('TCSZ', 0.02), ('TNSZ', 0.0)]\n",
      "Distribution of classes on val set: \n",
      "[('ABSZ', 94), ('CPSZ', 4900), ('FNSZ', 7942), ('GNSZ', 4093), ('MYSZ', 259), ('SPSZ', 262), ('TCSZ', 341), ('TNSZ', 82)]\n",
      "Proportion of classes on val set:\n",
      "[('ABSZ', 0.01), ('CPSZ', 0.27), ('FNSZ', 0.44), ('GNSZ', 0.23), ('MYSZ', 0.01), ('SPSZ', 0.01), ('TCSZ', 0.02), ('TNSZ', 0.0)]\n",
      "Distribution of classes on test set: \n",
      "[('ABSZ', 94), ('CPSZ', 4900), ('FNSZ', 7942), ('GNSZ', 4092), ('MYSZ', 258), ('SPSZ', 261), ('TCSZ', 341), ('TNSZ', 81)]\n",
      "Proportion of classes on test set:\n",
      "[('ABSZ', 0.01), ('CPSZ', 0.27), ('FNSZ', 0.44), ('GNSZ', 0.23), ('MYSZ', 0.01), ('SPSZ', 0.01), ('TCSZ', 0.02), ('TNSZ', 0.0)]\n",
      "\n",
      "\n"
     ]
    }
   ],
   "source": [
    "fold = 1\n",
    "for index, [train, test] in enumerate(kfold.split(X, y)):\n",
    "    X_train, X_val, y_train, y_val = train_test_split(X[train], y[train], test_size=0.25, stratify=y[train], random_state=2019)\n",
    "    X_test, y_test = X[test], y[test]\n",
    "    \n",
    "    c_train = collections.Counter(y_train)\n",
    "    c_val = collections.Counter(y_val)\n",
    "    c_test = collections.Counter(y_test)\n",
    "    \n",
    "    train_total = sum(c_train.values())\n",
    "    train_percent = {key: round(value/train_total, 2) for key, value in c_train.items()}\n",
    "    \n",
    "    val_total = sum(c_val.values())\n",
    "    val_percent = {key: round(value/val_total, 2) for key, value in c_val.items()}\n",
    "\n",
    "    test_total = sum(c_test.values())\n",
    "    test_percent = {key: round(value/test_total, 2) for key, value in c_test.items()}\n",
    "    \n",
    "    print('Distribution for fold {}'.format(fold))\n",
    "    print('Distribution of classes on train set: ')\n",
    "    print(sorted(dict(c_train).items()))\n",
    "    print('Proportion of classes on train set:')\n",
    "    print(sorted(train_percent.items()))\n",
    "    print('Distribution of classes on val set: ')\n",
    "    print(sorted(dict(c_val).items()))\n",
    "    print('Proportion of classes on val set:')\n",
    "    print(sorted(val_percent.items()))\n",
    "    print('Distribution of classes on test set: ')\n",
    "    print(sorted(dict(c_test).items()))\n",
    "    print('Proportion of classes on test set:')\n",
    "    print(sorted(test_percent.items()))\n",
    "    print('\\n')\n",
    "    \n",
    "    fold += 1"
   ]
  },
  {
   "cell_type": "code",
   "execution_count": 36,
   "metadata": {},
   "outputs": [],
   "source": [
    "train_test_split?"
   ]
  },
  {
   "cell_type": "code",
   "execution_count": null,
   "metadata": {},
   "outputs": [],
   "source": []
  },
  {
   "cell_type": "code",
   "execution_count": 26,
   "metadata": {},
   "outputs": [
    {
     "name": "stdout",
     "output_type": "stream",
     "text": [
      "Indices after shuffling:\n",
      "['CPSZ' 'CPSZ' 'TCSZ' 'CPSZ' 'GNSZ' 'FNSZ' 'FNSZ' 'FNSZ' 'FNSZ' 'CPSZ']\n",
      "<class 'numpy.ndarray'>\n",
      "(53913, 32, 9, 19)\n",
      "(17971, 32, 9, 19)\n",
      "(17971, 32, 9, 19)\n",
      "Counter({'FNSZ': 23940, 'CPSZ': 14671, 'GNSZ': 12237, 'TCSZ': 986, 'SPSZ': 805, 'MYSZ': 772, 'ABSZ': 265, 'TNSZ': 237})\n",
      "Counter({'FNSZ': 7892, 'CPSZ': 4920, 'GNSZ': 4113, 'TCSZ': 352, 'SPSZ': 267, 'MYSZ': 247, 'ABSZ': 103, 'TNSZ': 77})\n",
      "Counter({'FNSZ': 7878, 'CPSZ': 4907, 'GNSZ': 4113, 'TCSZ': 367, 'MYSZ': 273, 'SPSZ': 236, 'ABSZ': 103, 'TNSZ': 94})\n",
      "<class 'numpy.ndarray'>\n",
      "(53913, 32, 9, 19)\n",
      "(17971, 32, 9, 19)\n",
      "(17971, 32, 9, 19)\n",
      "Counter({'FNSZ': 23917, 'CPSZ': 14676, 'GNSZ': 12219, 'TCSZ': 1017, 'MYSZ': 775, 'SPSZ': 769, 'ABSZ': 279, 'TNSZ': 261})\n",
      "Counter({'FNSZ': 7892, 'CPSZ': 4920, 'GNSZ': 4113, 'TCSZ': 352, 'SPSZ': 267, 'MYSZ': 247, 'ABSZ': 103, 'TNSZ': 77})\n",
      "Counter({'FNSZ': 7901, 'CPSZ': 4902, 'GNSZ': 4131, 'TCSZ': 336, 'SPSZ': 272, 'MYSZ': 270, 'ABSZ': 89, 'TNSZ': 70})\n",
      "<class 'numpy.ndarray'>\n",
      "(53913, 32, 9, 19)\n",
      "(17971, 32, 9, 19)\n",
      "(17971, 32, 9, 19)\n",
      "Counter({'FNSZ': 23778, 'CPSZ': 14656, 'GNSZ': 12383, 'TCSZ': 1020, 'MYSZ': 795, 'SPSZ': 773, 'ABSZ': 268, 'TNSZ': 240})\n",
      "Counter({'FNSZ': 7892, 'CPSZ': 4920, 'GNSZ': 4113, 'TCSZ': 352, 'SPSZ': 267, 'MYSZ': 247, 'ABSZ': 103, 'TNSZ': 77})\n",
      "Counter({'FNSZ': 8040, 'CPSZ': 4922, 'GNSZ': 3967, 'TCSZ': 333, 'SPSZ': 268, 'MYSZ': 250, 'ABSZ': 100, 'TNSZ': 91})\n",
      "<class 'numpy.ndarray'>\n",
      "(53913, 32, 9, 19)\n",
      "(17971, 32, 9, 19)\n",
      "(17971, 32, 9, 19)\n",
      "Counter({'FNSZ': 23819, 'CPSZ': 14731, 'GNSZ': 12211, 'TCSZ': 1036, 'MYSZ': 793, 'SPSZ': 776, 'ABSZ': 292, 'TNSZ': 255})\n",
      "Counter({'FNSZ': 7892, 'CPSZ': 4920, 'GNSZ': 4113, 'TCSZ': 352, 'SPSZ': 267, 'MYSZ': 247, 'ABSZ': 103, 'TNSZ': 77})\n",
      "Counter({'FNSZ': 7999, 'CPSZ': 4847, 'GNSZ': 4139, 'TCSZ': 317, 'SPSZ': 265, 'MYSZ': 252, 'TNSZ': 76, 'ABSZ': 76})\n",
      "<class 'numpy.ndarray'>\n",
      "(53913, 32, 9, 19)\n",
      "(17971, 32, 9, 19)\n",
      "(17971, 32, 9, 19)\n",
      "Counter({'FNSZ': 23819, 'CPSZ': 14731, 'GNSZ': 12211, 'TCSZ': 1036, 'MYSZ': 793, 'SPSZ': 776, 'ABSZ': 292, 'TNSZ': 255})\n",
      "Counter({'FNSZ': 7999, 'CPSZ': 4847, 'GNSZ': 4139, 'TCSZ': 317, 'SPSZ': 265, 'MYSZ': 252, 'TNSZ': 76, 'ABSZ': 76})\n",
      "Counter({'FNSZ': 7892, 'CPSZ': 4920, 'GNSZ': 4113, 'TCSZ': 352, 'SPSZ': 267, 'MYSZ': 247, 'ABSZ': 103, 'TNSZ': 77})\n"
     ]
    }
   ],
   "source": [
    "from utils.prep_data import train_val_test_nfold_split\n",
    "n_folds = train_val_test_nfold_split(X,y)\n",
    "for X_train, Y_train, X_val, Y_val, X_test, Y_test in n_folds:\n",
    "    print(X_train.shape)\n",
    "    print(X_val.shape)\n",
    "    print(X_test.shape)\n",
    "    print(collections.Counter(Y_train))\n",
    "    print(collections.Counter(Y_val))\n",
    "    print(collections.Counter(Y_test))"
   ]
  },
  {
   "cell_type": "code",
   "execution_count": null,
   "metadata": {},
   "outputs": [],
   "source": []
  },
  {
   "cell_type": "code",
   "execution_count": null,
   "metadata": {},
   "outputs": [],
   "source": []
  },
  {
   "cell_type": "code",
   "execution_count": null,
   "metadata": {},
   "outputs": [],
   "source": []
  },
  {
   "cell_type": "code",
   "execution_count": null,
   "metadata": {},
   "outputs": [],
   "source": []
  },
  {
   "cell_type": "code",
   "execution_count": 14,
   "metadata": {},
   "outputs": [
    {
     "data": {
      "text/plain": [
       "array([[[0.83022872],\n",
       "        [0.63075085]],\n",
       "\n",
       "       [[0.72343735],\n",
       "        [0.04854371]]])"
      ]
     },
     "execution_count": 14,
     "metadata": {},
     "output_type": "execute_result"
    }
   ],
   "source": [
    "import numpy as np\n",
    "np.random.rand(2, 2, 1)"
   ]
  },
  {
   "cell_type": "code",
   "execution_count": 10,
   "metadata": {},
   "outputs": [
    {
     "name": "stdout",
     "output_type": "stream",
     "text": [
      "(4, 2, 1, 1)\n",
      "[[[16]]\n",
      "\n",
      " [[20]]]\n",
      "(2, 1, 1)\n",
      "[[[ 3]]\n",
      "\n",
      " [[ 7]]\n",
      "\n",
      " [[11]]\n",
      "\n",
      " [[15]]]\n",
      "(4, 1, 1)\n",
      "[[36]]\n",
      "(1, 1)\n"
     ]
    }
   ],
   "source": [
    "import tensorflow as tf\n",
    "\n",
    "x = tf.constant([[1, 2, 4], [8, 16, 32]])\n",
    "# 4, 2, 2\n",
    "\n",
    "x = tf.constant([[[[1]], [[2]]], [[[3]], [[4]]], [[[5]], [[6]]], [[[7]], [[8]]]])\n",
    "print(x.shape)\n",
    "a = tf.reduce_sum(x, 0)  # [ 9 18 36]\n",
    "b = tf.reduce_sum(x, 1)  # [ 7 56]\n",
    "c = tf.reduce_sum(x, [0, 1])  # 63\n",
    "\n",
    "with tf.Session() as sess:\n",
    "    output_a = sess.run(a)\n",
    "    print(output_a)\n",
    "    print(output_a.shape)\n",
    "    output_b = sess.run(b)\n",
    "    print(output_b)\n",
    "    print(output_b.shape)\n",
    "    output_c = sess.run(c)\n",
    "    print(output_c)\n",
    "    print(output_c.shape)"
   ]
  },
  {
   "cell_type": "code",
   "execution_count": 5,
   "metadata": {},
   "outputs": [],
   "source": [
    "tf.reduce_sum?"
   ]
  }
 ],
 "metadata": {
  "kernelspec": {
   "display_name": "Python 3",
   "language": "python",
   "name": "python3"
  },
  "language_info": {
   "codemirror_mode": {
    "name": "ipython",
    "version": 3
   },
   "file_extension": ".py",
   "mimetype": "text/x-python",
   "name": "python",
   "nbconvert_exporter": "python",
   "pygments_lexer": "ipython3",
   "version": "3.7.4"
  }
 },
 "nbformat": 4,
 "nbformat_minor": 2
}
